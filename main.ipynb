{
 "cells": [
  {
   "cell_type": "code",
   "execution_count": 1,
   "metadata": {
    "collapsed": true
   },
   "outputs": [
    {
     "data": {
      "text/plain": "'233'"
     },
     "execution_count": 1,
     "metadata": {},
     "output_type": "execute_result"
    }
   ],
   "source": [
    "\n",
    "# str1 已经找到的前面的位数\n",
    "# 需要找的 x\n",
    "import numpy as np\n",
    "\n",
    "\n",
    "def find_e(str1,x):\n",
    "    if str1==None:\n",
    "        for i in range(0,10):\n",
    "            if i**2<=x<(i+1)**2:\n",
    "                break\n",
    "\n",
    "    else:\n",
    "        num=str(str1)\n",
    "        for i in range(0,10):\n",
    "            if int(num+str(i))**2<=x<int(num+str(i+1))**2:\n",
    "                break\n",
    "        i=num+str(i)\n",
    "    return str(i)\n",
    "\n",
    "\n",
    "find_e(str1=23,x=54321)"
   ]
  },
  {
   "cell_type": "code",
   "execution_count": 2,
   "metadata": {},
   "outputs": [],
   "source": [
    "def floor_square_root(x):\n",
    "    l1=len(str(x))\n",
    "\n",
    "    if l1%2==0:\n",
    "        l2=l1-2\n",
    "        l3=l1//2\n",
    "    else:\n",
    "        l2=l1-1\n",
    "        l3=(l1//2) +1\n",
    "\n",
    "\n",
    "\n",
    "    for i in range(l3):\n",
    "        #l4 1后面的个数\n",
    "        l4=l2-2*i\n",
    "        num0=int(x/int('1'+l4*'0'))\n",
    "\n",
    "        if i==0:\n",
    "            str1=find_e(None,num0)\n",
    "        else:\n",
    "            str1=find_e(str1,num0)\n",
    "\n",
    "    return int(str1)"
   ]
  },
  {
   "cell_type": "code",
   "execution_count": 3,
   "metadata": {},
   "outputs": [
    {
     "data": {
      "text/plain": "1111"
     },
     "execution_count": 3,
     "metadata": {},
     "output_type": "execute_result"
    }
   ],
   "source": [
    "floor_square_root(1234567)"
   ]
  },
  {
   "cell_type": "code",
   "execution_count": 4,
   "metadata": {},
   "outputs": [
    {
     "data": {
      "text/plain": "3"
     },
     "execution_count": 4,
     "metadata": {},
     "output_type": "execute_result"
    }
   ],
   "source": [
    "def floor_root(n,power=2):\n",
    "    l1=len(str(n))\n",
    "\n",
    "    if l1%2==0:\n",
    "        l2=l1-2\n",
    "        l3=l1//2\n",
    "    else:\n",
    "        l2=l1-1\n",
    "        l3=(l1//2) +1\n",
    "\n",
    "\n",
    "\n",
    "    for i in range(l3):\n",
    "        l4=l2-2*i\n",
    "        num0=int(n/int('1'+l4*'0'))\n",
    "\n",
    "        if i==0:\n",
    "            str1=find_e(None,num0)\n",
    "        else:\n",
    "            str1=find_e(str1,num0)\n",
    "\n",
    "\n",
    "        # print(result)\n",
    "    return int(str1[power-1])\n",
    "\n",
    "\n",
    "floor_root(54321,power=2)"
   ]
  },
  {
   "cell_type": "code",
   "execution_count": 5,
   "metadata": {},
   "outputs": [
    {
     "data": {
      "text/plain": "array([2.5 , 2.  , 1.21])"
     },
     "execution_count": 5,
     "metadata": {},
     "output_type": "execute_result"
    }
   ],
   "source": [
    "import numpy as np\n",
    "from scipy import linalg\n",
    "\n",
    "red = ['RED']\n",
    "yellow = ['YELLOW']\n",
    "blue = ['BLUE']\n",
    "orange = 2*red + 4*yellow\n",
    "purple = 5*red + 4*blue\n",
    "brown = 4*red + 7*yellow + 18*blue\n",
    "monday = 4*orange + 7*purple + 10*brown\n",
    "zeta = 5*orange + 10*purple + 8*brown\n",
    "party = 9*orange + 3*purple\n",
    "\n",
    "\n",
    "def reconstruct_prices(orders,totals):\n",
    "\n",
    "    l1=[]\n",
    "    l2=[]\n",
    "    for i in range(1,4):\n",
    "        l1.append([orders[-i].count('RED'),orders[-i].count('YELLOW'),orders[-i].count('BLUE')])\n",
    "        l2.append(totals[-i])\n",
    "\n",
    "    l1=np.array(l1)\n",
    "    l2=np.array(l2)\n",
    "    return linalg.solve(l1,l2)\n",
    "\n",
    "orders = [monday, zeta, monday + 2*zeta, party]\n",
    "totals = [631.18, 604.64, 1840.46, 169.02]\n",
    "reconstruct_prices(orders,totals)"
   ]
  },
  {
   "cell_type": "code",
   "execution_count": 6,
   "metadata": {},
   "outputs": [
    {
     "data": {
      "text/plain": "<Figure size 432x288 with 1 Axes>",
      "image/png": "[encoded data removed]"
     },
     "metadata": {
      "needs_background": "light"
     },
     "output_type": "display_data"
    }
   ],
   "source": [
    "import math\n",
    "import matplotlib.pyplot as plt\n",
    "plt.rcParams['font.family']='serif'\n",
    "\n",
    "\n",
    "\n",
    "def define_Ka(a):\n",
    "\n",
    "\n",
    "    def K(x):\n",
    "\n",
    "        return 1/np.sqrt(a-np.cos(x))\n",
    "    return K\n",
    "\n",
    "\n",
    "# Create an x-axis with 100 points between -pi and pi\n",
    "n = 100\n",
    "x = np.linspace(-np.pi, np.pi, n)\n",
    "# Use our new function K3()\n",
    "K3=define_Ka(3)\n",
    "y=K3(x)\n",
    "\n",
    "# Plot the function\n",
    "fig, ax = plt.subplots()\n",
    "ax.plot(x, y)\n",
    "ax.set(xlabel=r'$x$', ylabel=r'$K_3(x)$')\n",
    "plt.show()"
   ]
  },
  {
   "cell_type": "code",
   "execution_count": 7,
   "metadata": {},
   "outputs": [
    {
     "data": {
      "text/plain": "3.679821519552094"
     },
     "execution_count": 7,
     "metadata": {},
     "output_type": "execute_result"
    }
   ],
   "source": [
    "def Kintegral(K3, n):\n",
    "    sum=0\n",
    "    x = np.linspace(-np.pi, np.pi, n)\n",
    "    y=K3(x)\n",
    "\n",
    "    a=2*np.pi/n\n",
    "    for i in y:\n",
    "        sum=sum+a*i\n",
    "    return sum\n",
    "\n",
    "Kintegral(K3,20)"
   ]
  }
 ],
 "metadata": {
  "kernelspec": {
   "display_name": "Python 3 (ipykernel)",
   "language": "python",
   "name": "python3"
  },
  "language_info": {
   "codemirror_mode": {
    "name": "ipython",
    "version": 3
   },
   "file_extension": ".py",
   "mimetype": "text/x-python",
   "name": "python",
   "nbconvert_exporter": "python",
   "pygments_lexer": "ipython3",
   "version": "3.8.12"
  }
 },
 "nbformat": 4,
 "nbformat_minor": 1
}
